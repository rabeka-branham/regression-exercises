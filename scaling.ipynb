{
 "cells": [
  {
   "cell_type": "markdown",
   "id": "be1183a9-0417-4bdb-ba9d-0fb047120d07",
   "metadata": {},
   "source": [
    "# Exercises\n",
    "\n",
    "Do your work for these exercises in a jupyter notebook named `scaling`. Use the zillow dataset you acquired and prepped in previous lesson. Once you are finished, you may wish to repeat the exercises on another dataset for additional practice."
   ]
  },
  {
   "cell_type": "markdown",
   "id": "8e37965a-49ad-43e6-8b40-339ddb9e9be9",
   "metadata": {},
   "source": [
    "## Imports"
   ]
  },
  {
   "cell_type": "code",
   "execution_count": 2,
   "id": "a12e863f-80d8-4ba3-8407-425608249f97",
   "metadata": {
    "tags": []
   },
   "outputs": [],
   "source": [
    "import numpy as np\n",
    "import pandas as pd\n",
    "from scipy import stats\n",
    "\n",
    "import matplotlib.pyplot as plt\n",
    "\n",
    "import sklearn.preprocessing\n",
    "from sklearn.model_selection import train_test_split\n",
    "\n",
    "import wrangle as w\n",
    "import explore as e\n",
    "import model as m"
   ]
  },
  {
   "cell_type": "markdown",
   "id": "e1a63519-028e-44f9-b7b5-c0f1735b9e86",
   "metadata": {
    "tags": []
   },
   "source": [
    "## 1. Apply the scalers we talked about in this lesson to your data and visualize the results for the unscaled and scaled distribution ."
   ]
  },
  {
   "cell_type": "code",
   "execution_count": 2,
   "id": "c83cde95-2eff-4204-bb63-11442ba795f7",
   "metadata": {
    "tags": []
   },
   "outputs": [
    {
     "name": "stdout",
     "output_type": "stream",
     "text": [
      "Train:\t\tValidate:\tTest:\n",
      "(1284141, 7)\t(428047, 7)\t(428047, 7)\n"
     ]
    }
   ],
   "source": [
    "train,validate,test = w.wrangle_zillow()"
   ]
  },
  {
   "cell_type": "code",
   "execution_count": 3,
   "id": "f0877970-9d81-4e51-a91b-576e40b12028",
   "metadata": {
    "tags": []
   },
   "outputs": [],
   "source": [
    "def preprocess_zillow(train,validate,test):\n",
    "    encoded_dfs = []\n",
    "    for df in [train,validate,test]:\n",
    "        df_encoded_cols = pd.get_dummies(df.county).astype(int)\n",
    "        df = pd.concat([df,df_encoded_cols],axis=1).drop(columns='county')\n",
    "        encoded_dfs.append(df)\n",
    "    \n",
    "    X_and_y_dfs = []\n",
    "    for df in encoded_dfs:\n",
    "        X_and_y_dfs.append(df.drop(columns='property_value'))\n",
    "        X_and_y_dfs.append(df.property_value)\n",
    "        \n",
    "    return X_and_y_dfs"
   ]
  },
  {
   "cell_type": "code",
   "execution_count": 4,
   "id": "f0f3c37c-dfda-458d-9e02-09abc500712f",
   "metadata": {
    "tags": []
   },
   "outputs": [],
   "source": [
    "X_train,y_train,X_validate,y_validate,X_test,y_test = preprocess_zillow(train,validate,test)"
   ]
  },
  {
   "cell_type": "code",
   "execution_count": 5,
   "id": "ab7e1d19-4859-427a-a63d-5fcb2aa36a9a",
   "metadata": {
    "tags": []
   },
   "outputs": [
    {
     "data": {
      "text/html": [
       "<div>\n",
       "<style scoped>\n",
       "    .dataframe tbody tr th:only-of-type {\n",
       "        vertical-align: middle;\n",
       "    }\n",
       "\n",
       "    .dataframe tbody tr th {\n",
       "        vertical-align: top;\n",
       "    }\n",
       "\n",
       "    .dataframe thead th {\n",
       "        text-align: right;\n",
       "    }\n",
       "</style>\n",
       "<table border=\"1\" class=\"dataframe\">\n",
       "  <thead>\n",
       "    <tr style=\"text-align: right;\">\n",
       "      <th></th>\n",
       "      <th>bed_count</th>\n",
       "      <th>bath_count</th>\n",
       "      <th>area</th>\n",
       "      <th>year_built</th>\n",
       "      <th>tax_amount</th>\n",
       "      <th>Los Angeles</th>\n",
       "      <th>Orange</th>\n",
       "      <th>Ventura</th>\n",
       "    </tr>\n",
       "  </thead>\n",
       "  <tbody>\n",
       "    <tr>\n",
       "      <th>993671</th>\n",
       "      <td>4</td>\n",
       "      <td>3.0</td>\n",
       "      <td>1956</td>\n",
       "      <td>1955</td>\n",
       "      <td>3554.38</td>\n",
       "      <td>0</td>\n",
       "      <td>1</td>\n",
       "      <td>0</td>\n",
       "    </tr>\n",
       "    <tr>\n",
       "      <th>1191413</th>\n",
       "      <td>3</td>\n",
       "      <td>2.0</td>\n",
       "      <td>1929</td>\n",
       "      <td>1929</td>\n",
       "      <td>5486.56</td>\n",
       "      <td>1</td>\n",
       "      <td>0</td>\n",
       "      <td>0</td>\n",
       "    </tr>\n",
       "    <tr>\n",
       "      <th>1131915</th>\n",
       "      <td>3</td>\n",
       "      <td>2.0</td>\n",
       "      <td>1188</td>\n",
       "      <td>1952</td>\n",
       "      <td>1073.84</td>\n",
       "      <td>0</td>\n",
       "      <td>1</td>\n",
       "      <td>0</td>\n",
       "    </tr>\n",
       "    <tr>\n",
       "      <th>1998279</th>\n",
       "      <td>2</td>\n",
       "      <td>1.0</td>\n",
       "      <td>1133</td>\n",
       "      <td>1950</td>\n",
       "      <td>847.60</td>\n",
       "      <td>0</td>\n",
       "      <td>1</td>\n",
       "      <td>0</td>\n",
       "    </tr>\n",
       "    <tr>\n",
       "      <th>1417050</th>\n",
       "      <td>4</td>\n",
       "      <td>4.0</td>\n",
       "      <td>3033</td>\n",
       "      <td>2011</td>\n",
       "      <td>5534.04</td>\n",
       "      <td>1</td>\n",
       "      <td>0</td>\n",
       "      <td>0</td>\n",
       "    </tr>\n",
       "    <tr>\n",
       "      <th>...</th>\n",
       "      <td>...</td>\n",
       "      <td>...</td>\n",
       "      <td>...</td>\n",
       "      <td>...</td>\n",
       "      <td>...</td>\n",
       "      <td>...</td>\n",
       "      <td>...</td>\n",
       "      <td>...</td>\n",
       "    </tr>\n",
       "    <tr>\n",
       "      <th>1928393</th>\n",
       "      <td>4</td>\n",
       "      <td>3.0</td>\n",
       "      <td>1976</td>\n",
       "      <td>1970</td>\n",
       "      <td>6546.68</td>\n",
       "      <td>1</td>\n",
       "      <td>0</td>\n",
       "      <td>0</td>\n",
       "    </tr>\n",
       "    <tr>\n",
       "      <th>516098</th>\n",
       "      <td>3</td>\n",
       "      <td>2.0</td>\n",
       "      <td>1988</td>\n",
       "      <td>1965</td>\n",
       "      <td>3226.18</td>\n",
       "      <td>1</td>\n",
       "      <td>0</td>\n",
       "      <td>0</td>\n",
       "    </tr>\n",
       "    <tr>\n",
       "      <th>413602</th>\n",
       "      <td>4</td>\n",
       "      <td>2.0</td>\n",
       "      <td>1773</td>\n",
       "      <td>1977</td>\n",
       "      <td>4046.07</td>\n",
       "      <td>1</td>\n",
       "      <td>0</td>\n",
       "      <td>0</td>\n",
       "    </tr>\n",
       "    <tr>\n",
       "      <th>1010217</th>\n",
       "      <td>3</td>\n",
       "      <td>2.0</td>\n",
       "      <td>1496</td>\n",
       "      <td>1977</td>\n",
       "      <td>5558.30</td>\n",
       "      <td>1</td>\n",
       "      <td>0</td>\n",
       "      <td>0</td>\n",
       "    </tr>\n",
       "    <tr>\n",
       "      <th>844868</th>\n",
       "      <td>3</td>\n",
       "      <td>3.0</td>\n",
       "      <td>2940</td>\n",
       "      <td>1994</td>\n",
       "      <td>4052.12</td>\n",
       "      <td>0</td>\n",
       "      <td>1</td>\n",
       "      <td>0</td>\n",
       "    </tr>\n",
       "  </tbody>\n",
       "</table>\n",
       "<p>1284141 rows × 8 columns</p>\n",
       "</div>"
      ],
      "text/plain": [
       "         bed_count  bath_count  area  year_built  tax_amount  Los Angeles  \\\n",
       "993671           4         3.0  1956        1955     3554.38            0   \n",
       "1191413          3         2.0  1929        1929     5486.56            1   \n",
       "1131915          3         2.0  1188        1952     1073.84            0   \n",
       "1998279          2         1.0  1133        1950      847.60            0   \n",
       "1417050          4         4.0  3033        2011     5534.04            1   \n",
       "...            ...         ...   ...         ...         ...          ...   \n",
       "1928393          4         3.0  1976        1970     6546.68            1   \n",
       "516098           3         2.0  1988        1965     3226.18            1   \n",
       "413602           4         2.0  1773        1977     4046.07            1   \n",
       "1010217          3         2.0  1496        1977     5558.30            1   \n",
       "844868           3         3.0  2940        1994     4052.12            0   \n",
       "\n",
       "         Orange  Ventura  \n",
       "993671        1        0  \n",
       "1191413       0        0  \n",
       "1131915       1        0  \n",
       "1998279       1        0  \n",
       "1417050       0        0  \n",
       "...         ...      ...  \n",
       "1928393       0        0  \n",
       "516098        0        0  \n",
       "413602        0        0  \n",
       "1010217       0        0  \n",
       "844868        1        0  \n",
       "\n",
       "[1284141 rows x 8 columns]"
      ]
     },
     "execution_count": 5,
     "metadata": {},
     "output_type": "execute_result"
    }
   ],
   "source": [
    "X_train"
   ]
  },
  {
   "cell_type": "code",
   "execution_count": 6,
   "id": "037df457-f351-4ea1-9bea-fc9d7301f3c5",
   "metadata": {
    "tags": []
   },
   "outputs": [
    {
     "data": {
      "text/html": [
       "<div>\n",
       "<style scoped>\n",
       "    .dataframe tbody tr th:only-of-type {\n",
       "        vertical-align: middle;\n",
       "    }\n",
       "\n",
       "    .dataframe tbody tr th {\n",
       "        vertical-align: top;\n",
       "    }\n",
       "\n",
       "    .dataframe thead th {\n",
       "        text-align: right;\n",
       "    }\n",
       "</style>\n",
       "<table border=\"1\" class=\"dataframe\">\n",
       "  <thead>\n",
       "    <tr style=\"text-align: right;\">\n",
       "      <th></th>\n",
       "      <th>property_value</th>\n",
       "    </tr>\n",
       "  </thead>\n",
       "  <tbody>\n",
       "    <tr>\n",
       "      <th>993671</th>\n",
       "      <td>293741</td>\n",
       "    </tr>\n",
       "    <tr>\n",
       "      <th>1191413</th>\n",
       "      <td>438685</td>\n",
       "    </tr>\n",
       "    <tr>\n",
       "      <th>1131915</th>\n",
       "      <td>61191</td>\n",
       "    </tr>\n",
       "    <tr>\n",
       "      <th>1998279</th>\n",
       "      <td>44967</td>\n",
       "    </tr>\n",
       "    <tr>\n",
       "      <th>1417050</th>\n",
       "      <td>423764</td>\n",
       "    </tr>\n",
       "    <tr>\n",
       "      <th>...</th>\n",
       "      <td>...</td>\n",
       "    </tr>\n",
       "    <tr>\n",
       "      <th>1928393</th>\n",
       "      <td>483594</td>\n",
       "    </tr>\n",
       "    <tr>\n",
       "      <th>516098</th>\n",
       "      <td>212339</td>\n",
       "    </tr>\n",
       "    <tr>\n",
       "      <th>413602</th>\n",
       "      <td>339172</td>\n",
       "    </tr>\n",
       "    <tr>\n",
       "      <th>1010217</th>\n",
       "      <td>443826</td>\n",
       "    </tr>\n",
       "    <tr>\n",
       "      <th>844868</th>\n",
       "      <td>398449</td>\n",
       "    </tr>\n",
       "  </tbody>\n",
       "</table>\n",
       "<p>1284141 rows × 1 columns</p>\n",
       "</div>"
      ],
      "text/plain": [
       "         property_value\n",
       "993671           293741\n",
       "1191413          438685\n",
       "1131915           61191\n",
       "1998279           44967\n",
       "1417050          423764\n",
       "...                 ...\n",
       "1928393          483594\n",
       "516098           212339\n",
       "413602           339172\n",
       "1010217          443826\n",
       "844868           398449\n",
       "\n",
       "[1284141 rows x 1 columns]"
      ]
     },
     "execution_count": 6,
     "metadata": {},
     "output_type": "execute_result"
    }
   ],
   "source": [
    "pd.DataFrame(y_train)"
   ]
  },
  {
   "cell_type": "code",
   "execution_count": 31,
   "id": "abcfed1b-3548-46d0-8629-1db825083076",
   "metadata": {
    "tags": []
   },
   "outputs": [
    {
     "data": {
      "text/plain": [
       "Text(0.5, 1.0, 'Scaled')"
      ]
     },
     "execution_count": 31,
     "metadata": {},
     "output_type": "execute_result"
    },
    {
     "data": {
      "image/png": "[encoded data removed]",
      "text/plain": [
       "<Figure size 800x400 with 2 Axes>"
      ]
     },
     "metadata": {},
     "output_type": "display_data"
    }
   ],
   "source": [
    "scaler = sklearn.preprocessing.MinMaxScaler()\n",
    "scaler.fit_transform(X_train)\n",
    "\n",
    "plt.figure(figsize=(8, 4))\n",
    "plt.subplot(121)\n",
    "plt.hist(X_train, bins=25, ec='black')\n",
    "plt.title('Original')\n",
    "plt.subplot(122)\n",
    "plt.hist(X_train_scaled, bins=25, ec='black')\n",
    "plt.title('Scaled')"
   ]
  },
  {
   "cell_type": "code",
   "execution_count": 32,
   "id": "15e4a632-8886-4a61-8a82-cea4fbc613c2",
   "metadata": {
    "tags": []
   },
   "outputs": [
    {
     "data": {
      "text/plain": [
       "Text(0.5, 1.0, 'Scaled')"
      ]
     },
     "execution_count": 32,
     "metadata": {},
     "output_type": "execute_result"
    },
    {
     "data": {
      "image/png": "[encoded data removed]",
      "text/plain": [
       "<Figure size 800x400 with 2 Axes>"
      ]
     },
     "metadata": {},
     "output_type": "display_data"
    }
   ],
   "source": [
    "scaler = sklearn.preprocessing.StandardScaler()\n",
    "scaler.fit_transform(X_train)\n",
    "\n",
    "plt.figure(figsize=(8, 4))\n",
    "plt.subplot(121)\n",
    "plt.hist(X_train, bins=25, ec='black')\n",
    "plt.title('Original')\n",
    "plt.subplot(122)\n",
    "plt.hist(X_train_scaled, bins=25, ec='black')\n",
    "plt.title('Scaled')"
   ]
  },
  {
   "cell_type": "code",
   "execution_count": 33,
   "id": "4c3ae12b-baac-4ebc-8bf5-fe04ad4e882e",
   "metadata": {
    "tags": []
   },
   "outputs": [
    {
     "data": {
      "text/plain": [
       "Text(0.5, 1.0, 'Scaled')"
      ]
     },
     "execution_count": 33,
     "metadata": {},
     "output_type": "execute_result"
    },
    {
     "data": {
      "image/png": "[encoded data removed]",
      "text/plain": [
       "<Figure size 800x400 with 2 Axes>"
      ]
     },
     "metadata": {},
     "output_type": "display_data"
    }
   ],
   "source": [
    "scaler = sklearn.preprocessing.RobustScaler()\n",
    "scaler.fit_transform(X_train)\n",
    "\n",
    "plt.figure(figsize=(8, 4))\n",
    "plt.subplot(121)\n",
    "plt.hist(X_train, bins=25, ec='black')\n",
    "plt.title('Original')\n",
    "plt.subplot(122)\n",
    "plt.hist(X_train_scaled, bins=25, ec='black')\n",
    "plt.title('Scaled')"
   ]
  },
  {
   "cell_type": "markdown",
   "id": "eb937faf-8c2c-452b-9731-255d2ef50a99",
   "metadata": {
    "tags": []
   },
   "source": [
    "## 2. Apply the .inverse_transform method to your scaled data. Is the resulting dataset the exact same as the original data?"
   ]
  },
  {
   "cell_type": "code",
   "execution_count": 34,
   "id": "6838252e-115d-49c3-a9e9-8492689fb618",
   "metadata": {
    "tags": []
   },
   "outputs": [
    {
     "data": {
      "text/plain": [
       "Text(0.5, 1.0, 'Scaled')"
      ]
     },
     "execution_count": 34,
     "metadata": {},
     "output_type": "execute_result"
    },
    {
     "data": {
      "image/png": "[encoded data removed]",
      "text/plain": [
       "<Figure size 800x400 with 2 Axes>"
      ]
     },
     "metadata": {},
     "output_type": "display_data"
    }
   ],
   "source": [
    "scaler = sklearn.preprocessing.MinMaxScaler()\n",
    "scaler.fit_transform(X_train)\n",
    "\n",
    "plt.figure(figsize=(8, 4))\n",
    "plt.subplot(121)\n",
    "plt.hist(X_train, bins=25, ec='black')\n",
    "plt.title('Original')\n",
    "plt.subplot(122)\n",
    "plt.hist(X_train_scaled, bins=25, ec='black')\n",
    "plt.title('Scaled')"
   ]
  },
  {
   "cell_type": "code",
   "execution_count": 35,
   "id": "06d32ce0-584e-4185-ae2b-8b74d484748c",
   "metadata": {
    "tags": []
   },
   "outputs": [
    {
     "data": {
      "text/plain": [
       "Text(0.5, 1.0, 'Scaled')"
      ]
     },
     "execution_count": 35,
     "metadata": {},
     "output_type": "execute_result"
    },
    {
     "data": {
      "image/png": "[encoded data removed]",
      "text/plain": [
       "<Figure size 800x400 with 2 Axes>"
      ]
     },
     "metadata": {},
     "output_type": "display_data"
    }
   ],
   "source": [
    "scaler = sklearn.preprocessing.StandardScaler()\n",
    "scaler.fit_transform(X_train)\n",
    "\n",
    "plt.figure(figsize=(8, 4))\n",
    "plt.subplot(121)\n",
    "plt.hist(X_train, bins=25, ec='black')\n",
    "plt.title('Original')\n",
    "plt.subplot(122)\n",
    "plt.hist(X_train_scaled, bins=25, ec='black')\n",
    "plt.title('Scaled')"
   ]
  },
  {
   "cell_type": "code",
   "execution_count": 36,
   "id": "15637f35-a87f-4b1a-b85c-6d1e18868455",
   "metadata": {
    "tags": []
   },
   "outputs": [
    {
     "data": {
      "text/plain": [
       "Text(0.5, 1.0, 'Scaled')"
      ]
     },
     "execution_count": 36,
     "metadata": {},
     "output_type": "execute_result"
    },
    {
     "data": {
      "image/png": "[encoded data removed]",
      "text/plain": [
       "<Figure size 800x400 with 2 Axes>"
      ]
     },
     "metadata": {},
     "output_type": "display_data"
    }
   ],
   "source": [
    "scaler = sklearn.preprocessing.RobustScaler()\n",
    "scaler.fit_transform(X_train)\n",
    "\n",
    "plt.figure(figsize=(8, 4))\n",
    "plt.subplot(121)\n",
    "plt.hist(X_train, bins=25, ec='black')\n",
    "plt.title('Original')\n",
    "plt.subplot(122)\n",
    "plt.hist(X_train_scaled, bins=25, ec='black')\n",
    "plt.title('Scaled')"
   ]
  },
  {
   "cell_type": "markdown",
   "id": "c16bf2cf-71ad-4b6d-b329-ce6452f5c7d5",
   "metadata": {
    "tags": []
   },
   "source": [
    "## 3. Read the documentation for sklearn's QuantileTransformer. Use normal for the output_distribution and apply this scaler to your data. Visualize the result of your data scaling."
   ]
  },
  {
   "cell_type": "code",
   "execution_count": 37,
   "id": "cc39a0df-d226-4752-8d75-e502d15b9547",
   "metadata": {
    "tags": []
   },
   "outputs": [
    {
     "data": {
      "text/plain": [
       "Text(0.5, 1.0, 'Scaled')"
      ]
     },
     "execution_count": 37,
     "metadata": {},
     "output_type": "execute_result"
    },
    {
     "data": {
      "image/png": "[encoded data removed]",
      "text/plain": [
       "<Figure size 800x400 with 2 Axes>"
      ]
     },
     "metadata": {},
     "output_type": "display_data"
    }
   ],
   "source": [
    "scaler = sklearn.preprocessing.QuantileTransformer(output_distribution='normal')\n",
    "scaler.fit_transform(X_train)\n",
    "\n",
    "plt.figure(figsize=(8, 4))\n",
    "plt.subplot(121)\n",
    "plt.hist(X_train, bins=25, ec='black')\n",
    "plt.title('Original')\n",
    "plt.subplot(122)\n",
    "plt.hist(X_train_scaled, bins=25, ec='black')\n",
    "plt.title('Scaled')"
   ]
  },
  {
   "cell_type": "markdown",
   "id": "6e513f22-9775-4aae-83a1-b9d05c009ed3",
   "metadata": {
    "tags": []
   },
   "source": [
    "## 4. Use the QuantileTransformer, but omit the output_distribution argument. Visualize your results. What do you notice?"
   ]
  },
  {
   "cell_type": "code",
   "execution_count": 38,
   "id": "bd53e785-e746-4234-b3cb-fd21d4fa82d7",
   "metadata": {
    "tags": []
   },
   "outputs": [
    {
     "data": {
      "text/plain": [
       "Text(0.5, 1.0, 'Scaled')"
      ]
     },
     "execution_count": 38,
     "metadata": {},
     "output_type": "execute_result"
    },
    {
     "data": {
      "image/png": "[encoded data removed]",
      "text/plain": [
       "<Figure size 800x400 with 2 Axes>"
      ]
     },
     "metadata": {},
     "output_type": "display_data"
    }
   ],
   "source": [
    "scaler = sklearn.preprocessing.QuantileTransformer()\n",
    "scaler.fit_transform(X_train)\n",
    "\n",
    "plt.figure(figsize=(8, 4))\n",
    "plt.subplot(121)\n",
    "plt.hist(X_train, bins=25, ec='black')\n",
    "plt.title('Original')\n",
    "plt.subplot(122)\n",
    "plt.hist(X_train_scaled, bins=25, ec='black')\n",
    "plt.title('Scaled')"
   ]
  },
  {
   "cell_type": "markdown",
   "id": "9d726efa-8178-4a0d-88f8-ab8bcc75a268",
   "metadata": {},
   "source": [
    "## 5. Based on the work you've done, choose a scaling method for your dataset. Write a function within your prepare.py that accepts as input the train, validate, and test data splits, and returns the scaled versions of each. Be sure to only learn the parameters for scaling from your training data!"
   ]
  },
  {
   "cell_type": "code",
   "execution_count": 2,
   "id": "9a212d42-f4a0-4455-b9ca-5aaf5e74ec4d",
   "metadata": {
    "tags": []
   },
   "outputs": [
    {
     "name": "stdout",
     "output_type": "stream",
     "text": [
      "Train:\t\tValidate:\tTest:\n",
      "(1284141, 7)\t(428047, 7)\t(428047, 7)\n"
     ]
    }
   ],
   "source": [
    "train,validate,test = w.wrangle_zillow()"
   ]
  },
  {
   "cell_type": "code",
   "execution_count": 47,
   "id": "83e6e983-c72c-4f82-bca9-31eee746960d",
   "metadata": {
    "tags": []
   },
   "outputs": [
    {
     "data": {
      "text/html": [
       "<div>\n",
       "<style scoped>\n",
       "    .dataframe tbody tr th:only-of-type {\n",
       "        vertical-align: middle;\n",
       "    }\n",
       "\n",
       "    .dataframe tbody tr th {\n",
       "        vertical-align: top;\n",
       "    }\n",
       "\n",
       "    .dataframe thead th {\n",
       "        text-align: right;\n",
       "    }\n",
       "</style>\n",
       "<table border=\"1\" class=\"dataframe\">\n",
       "  <thead>\n",
       "    <tr style=\"text-align: right;\">\n",
       "      <th></th>\n",
       "      <th>bed_count</th>\n",
       "      <th>bath_count</th>\n",
       "      <th>area</th>\n",
       "      <th>property_value</th>\n",
       "      <th>year_built</th>\n",
       "      <th>tax_amount</th>\n",
       "      <th>county</th>\n",
       "    </tr>\n",
       "  </thead>\n",
       "  <tbody>\n",
       "    <tr>\n",
       "      <th>993671</th>\n",
       "      <td>4</td>\n",
       "      <td>3.0</td>\n",
       "      <td>1956</td>\n",
       "      <td>293741</td>\n",
       "      <td>1955</td>\n",
       "      <td>3554.38</td>\n",
       "      <td>Orange</td>\n",
       "    </tr>\n",
       "    <tr>\n",
       "      <th>1191413</th>\n",
       "      <td>3</td>\n",
       "      <td>2.0</td>\n",
       "      <td>1929</td>\n",
       "      <td>438685</td>\n",
       "      <td>1929</td>\n",
       "      <td>5486.56</td>\n",
       "      <td>Los Angeles</td>\n",
       "    </tr>\n",
       "    <tr>\n",
       "      <th>1131915</th>\n",
       "      <td>3</td>\n",
       "      <td>2.0</td>\n",
       "      <td>1188</td>\n",
       "      <td>61191</td>\n",
       "      <td>1952</td>\n",
       "      <td>1073.84</td>\n",
       "      <td>Orange</td>\n",
       "    </tr>\n",
       "    <tr>\n",
       "      <th>1998279</th>\n",
       "      <td>2</td>\n",
       "      <td>1.0</td>\n",
       "      <td>1133</td>\n",
       "      <td>44967</td>\n",
       "      <td>1950</td>\n",
       "      <td>847.60</td>\n",
       "      <td>Orange</td>\n",
       "    </tr>\n",
       "    <tr>\n",
       "      <th>1417050</th>\n",
       "      <td>4</td>\n",
       "      <td>4.0</td>\n",
       "      <td>3033</td>\n",
       "      <td>423764</td>\n",
       "      <td>2011</td>\n",
       "      <td>5534.04</td>\n",
       "      <td>Los Angeles</td>\n",
       "    </tr>\n",
       "    <tr>\n",
       "      <th>...</th>\n",
       "      <td>...</td>\n",
       "      <td>...</td>\n",
       "      <td>...</td>\n",
       "      <td>...</td>\n",
       "      <td>...</td>\n",
       "      <td>...</td>\n",
       "      <td>...</td>\n",
       "    </tr>\n",
       "    <tr>\n",
       "      <th>1928393</th>\n",
       "      <td>4</td>\n",
       "      <td>3.0</td>\n",
       "      <td>1976</td>\n",
       "      <td>483594</td>\n",
       "      <td>1970</td>\n",
       "      <td>6546.68</td>\n",
       "      <td>Los Angeles</td>\n",
       "    </tr>\n",
       "    <tr>\n",
       "      <th>516098</th>\n",
       "      <td>3</td>\n",
       "      <td>2.0</td>\n",
       "      <td>1988</td>\n",
       "      <td>212339</td>\n",
       "      <td>1965</td>\n",
       "      <td>3226.18</td>\n",
       "      <td>Los Angeles</td>\n",
       "    </tr>\n",
       "    <tr>\n",
       "      <th>413602</th>\n",
       "      <td>4</td>\n",
       "      <td>2.0</td>\n",
       "      <td>1773</td>\n",
       "      <td>339172</td>\n",
       "      <td>1977</td>\n",
       "      <td>4046.07</td>\n",
       "      <td>Los Angeles</td>\n",
       "    </tr>\n",
       "    <tr>\n",
       "      <th>1010217</th>\n",
       "      <td>3</td>\n",
       "      <td>2.0</td>\n",
       "      <td>1496</td>\n",
       "      <td>443826</td>\n",
       "      <td>1977</td>\n",
       "      <td>5558.30</td>\n",
       "      <td>Los Angeles</td>\n",
       "    </tr>\n",
       "    <tr>\n",
       "      <th>844868</th>\n",
       "      <td>3</td>\n",
       "      <td>3.0</td>\n",
       "      <td>2940</td>\n",
       "      <td>398449</td>\n",
       "      <td>1994</td>\n",
       "      <td>4052.12</td>\n",
       "      <td>Orange</td>\n",
       "    </tr>\n",
       "  </tbody>\n",
       "</table>\n",
       "<p>1284141 rows × 7 columns</p>\n",
       "</div>"
      ],
      "text/plain": [
       "         bed_count  bath_count  area  property_value  year_built  tax_amount  \\\n",
       "993671           4         3.0  1956          293741        1955     3554.38   \n",
       "1191413          3         2.0  1929          438685        1929     5486.56   \n",
       "1131915          3         2.0  1188           61191        1952     1073.84   \n",
       "1998279          2         1.0  1133           44967        1950      847.60   \n",
       "1417050          4         4.0  3033          423764        2011     5534.04   \n",
       "...            ...         ...   ...             ...         ...         ...   \n",
       "1928393          4         3.0  1976          483594        1970     6546.68   \n",
       "516098           3         2.0  1988          212339        1965     3226.18   \n",
       "413602           4         2.0  1773          339172        1977     4046.07   \n",
       "1010217          3         2.0  1496          443826        1977     5558.30   \n",
       "844868           3         3.0  2940          398449        1994     4052.12   \n",
       "\n",
       "              county  \n",
       "993671        Orange  \n",
       "1191413  Los Angeles  \n",
       "1131915       Orange  \n",
       "1998279       Orange  \n",
       "1417050  Los Angeles  \n",
       "...              ...  \n",
       "1928393  Los Angeles  \n",
       "516098   Los Angeles  \n",
       "413602   Los Angeles  \n",
       "1010217  Los Angeles  \n",
       "844868        Orange  \n",
       "\n",
       "[1284141 rows x 7 columns]"
      ]
     },
     "execution_count": 47,
     "metadata": {},
     "output_type": "execute_result"
    }
   ],
   "source": [
    "train"
   ]
  },
  {
   "cell_type": "code",
   "execution_count": 48,
   "id": "a9ca86ea-721e-4174-be25-3b9a7bc0a622",
   "metadata": {
    "tags": []
   },
   "outputs": [],
   "source": [
    "def preprocess_zillow(train,validate,test):\n",
    "    encoded_dfs = []\n",
    "    for df in [train,validate,test]:\n",
    "        df_encoded_cols = pd.get_dummies(df.county).astype(int)\n",
    "        df = pd.concat([df,df_encoded_cols],axis=1).drop(columns='county')\n",
    "        encoded_dfs.append(df)\n",
    "    print(f'Train:\\t\\tValidate:\\tTest:')\n",
    "    print(f'{encoded_dfs[0].shape}\\t{encoded_dfs[1].shape}\\t{encoded_dfs[2].shape}')    \n",
    "        \n",
    "    return encoded_dfs"
   ]
  },
  {
   "cell_type": "code",
   "execution_count": 49,
   "id": "82581d55-afc1-4511-b368-ab489cd794fa",
   "metadata": {
    "tags": []
   },
   "outputs": [
    {
     "name": "stdout",
     "output_type": "stream",
     "text": [
      "Train:\t\tValidate:\tTest:\n",
      "(1284141, 9)\t(428047, 9)\t(428047, 9)\n"
     ]
    }
   ],
   "source": [
    "train,validate,test = preprocess_zillow(train,validate,test)"
   ]
  },
  {
   "cell_type": "code",
   "execution_count": 51,
   "id": "c73bdec9-12d9-4475-b043-3f44ee875dac",
   "metadata": {
    "tags": []
   },
   "outputs": [
    {
     "data": {
      "text/html": [
       "<div>\n",
       "<style scoped>\n",
       "    .dataframe tbody tr th:only-of-type {\n",
       "        vertical-align: middle;\n",
       "    }\n",
       "\n",
       "    .dataframe tbody tr th {\n",
       "        vertical-align: top;\n",
       "    }\n",
       "\n",
       "    .dataframe thead th {\n",
       "        text-align: right;\n",
       "    }\n",
       "</style>\n",
       "<table border=\"1\" class=\"dataframe\">\n",
       "  <thead>\n",
       "    <tr style=\"text-align: right;\">\n",
       "      <th></th>\n",
       "      <th>bed_count</th>\n",
       "      <th>bath_count</th>\n",
       "      <th>area</th>\n",
       "      <th>property_value</th>\n",
       "      <th>year_built</th>\n",
       "      <th>tax_amount</th>\n",
       "      <th>Los Angeles</th>\n",
       "      <th>Orange</th>\n",
       "      <th>Ventura</th>\n",
       "    </tr>\n",
       "  </thead>\n",
       "  <tbody>\n",
       "    <tr>\n",
       "      <th>993671</th>\n",
       "      <td>4</td>\n",
       "      <td>3.0</td>\n",
       "      <td>1956</td>\n",
       "      <td>293741</td>\n",
       "      <td>1955</td>\n",
       "      <td>3554.38</td>\n",
       "      <td>0</td>\n",
       "      <td>1</td>\n",
       "      <td>0</td>\n",
       "    </tr>\n",
       "    <tr>\n",
       "      <th>1191413</th>\n",
       "      <td>3</td>\n",
       "      <td>2.0</td>\n",
       "      <td>1929</td>\n",
       "      <td>438685</td>\n",
       "      <td>1929</td>\n",
       "      <td>5486.56</td>\n",
       "      <td>1</td>\n",
       "      <td>0</td>\n",
       "      <td>0</td>\n",
       "    </tr>\n",
       "    <tr>\n",
       "      <th>1131915</th>\n",
       "      <td>3</td>\n",
       "      <td>2.0</td>\n",
       "      <td>1188</td>\n",
       "      <td>61191</td>\n",
       "      <td>1952</td>\n",
       "      <td>1073.84</td>\n",
       "      <td>0</td>\n",
       "      <td>1</td>\n",
       "      <td>0</td>\n",
       "    </tr>\n",
       "    <tr>\n",
       "      <th>1998279</th>\n",
       "      <td>2</td>\n",
       "      <td>1.0</td>\n",
       "      <td>1133</td>\n",
       "      <td>44967</td>\n",
       "      <td>1950</td>\n",
       "      <td>847.60</td>\n",
       "      <td>0</td>\n",
       "      <td>1</td>\n",
       "      <td>0</td>\n",
       "    </tr>\n",
       "    <tr>\n",
       "      <th>1417050</th>\n",
       "      <td>4</td>\n",
       "      <td>4.0</td>\n",
       "      <td>3033</td>\n",
       "      <td>423764</td>\n",
       "      <td>2011</td>\n",
       "      <td>5534.04</td>\n",
       "      <td>1</td>\n",
       "      <td>0</td>\n",
       "      <td>0</td>\n",
       "    </tr>\n",
       "    <tr>\n",
       "      <th>...</th>\n",
       "      <td>...</td>\n",
       "      <td>...</td>\n",
       "      <td>...</td>\n",
       "      <td>...</td>\n",
       "      <td>...</td>\n",
       "      <td>...</td>\n",
       "      <td>...</td>\n",
       "      <td>...</td>\n",
       "      <td>...</td>\n",
       "    </tr>\n",
       "    <tr>\n",
       "      <th>1928393</th>\n",
       "      <td>4</td>\n",
       "      <td>3.0</td>\n",
       "      <td>1976</td>\n",
       "      <td>483594</td>\n",
       "      <td>1970</td>\n",
       "      <td>6546.68</td>\n",
       "      <td>1</td>\n",
       "      <td>0</td>\n",
       "      <td>0</td>\n",
       "    </tr>\n",
       "    <tr>\n",
       "      <th>516098</th>\n",
       "      <td>3</td>\n",
       "      <td>2.0</td>\n",
       "      <td>1988</td>\n",
       "      <td>212339</td>\n",
       "      <td>1965</td>\n",
       "      <td>3226.18</td>\n",
       "      <td>1</td>\n",
       "      <td>0</td>\n",
       "      <td>0</td>\n",
       "    </tr>\n",
       "    <tr>\n",
       "      <th>413602</th>\n",
       "      <td>4</td>\n",
       "      <td>2.0</td>\n",
       "      <td>1773</td>\n",
       "      <td>339172</td>\n",
       "      <td>1977</td>\n",
       "      <td>4046.07</td>\n",
       "      <td>1</td>\n",
       "      <td>0</td>\n",
       "      <td>0</td>\n",
       "    </tr>\n",
       "    <tr>\n",
       "      <th>1010217</th>\n",
       "      <td>3</td>\n",
       "      <td>2.0</td>\n",
       "      <td>1496</td>\n",
       "      <td>443826</td>\n",
       "      <td>1977</td>\n",
       "      <td>5558.30</td>\n",
       "      <td>1</td>\n",
       "      <td>0</td>\n",
       "      <td>0</td>\n",
       "    </tr>\n",
       "    <tr>\n",
       "      <th>844868</th>\n",
       "      <td>3</td>\n",
       "      <td>3.0</td>\n",
       "      <td>2940</td>\n",
       "      <td>398449</td>\n",
       "      <td>1994</td>\n",
       "      <td>4052.12</td>\n",
       "      <td>0</td>\n",
       "      <td>1</td>\n",
       "      <td>0</td>\n",
       "    </tr>\n",
       "  </tbody>\n",
       "</table>\n",
       "<p>1284141 rows × 9 columns</p>\n",
       "</div>"
      ],
      "text/plain": [
       "         bed_count  bath_count  area  property_value  year_built  tax_amount  \\\n",
       "993671           4         3.0  1956          293741        1955     3554.38   \n",
       "1191413          3         2.0  1929          438685        1929     5486.56   \n",
       "1131915          3         2.0  1188           61191        1952     1073.84   \n",
       "1998279          2         1.0  1133           44967        1950      847.60   \n",
       "1417050          4         4.0  3033          423764        2011     5534.04   \n",
       "...            ...         ...   ...             ...         ...         ...   \n",
       "1928393          4         3.0  1976          483594        1970     6546.68   \n",
       "516098           3         2.0  1988          212339        1965     3226.18   \n",
       "413602           4         2.0  1773          339172        1977     4046.07   \n",
       "1010217          3         2.0  1496          443826        1977     5558.30   \n",
       "844868           3         3.0  2940          398449        1994     4052.12   \n",
       "\n",
       "         Los Angeles  Orange  Ventura  \n",
       "993671             0       1        0  \n",
       "1191413            1       0        0  \n",
       "1131915            0       1        0  \n",
       "1998279            0       1        0  \n",
       "1417050            1       0        0  \n",
       "...              ...     ...      ...  \n",
       "1928393            1       0        0  \n",
       "516098             1       0        0  \n",
       "413602             1       0        0  \n",
       "1010217            1       0        0  \n",
       "844868             0       1        0  \n",
       "\n",
       "[1284141 rows x 9 columns]"
      ]
     },
     "execution_count": 51,
     "metadata": {},
     "output_type": "execute_result"
    }
   ],
   "source": [
    "train"
   ]
  },
  {
   "cell_type": "code",
   "execution_count": 79,
   "id": "c5c37b66-4feb-4bb6-81ae-b6d1e690ec93",
   "metadata": {
    "tags": []
   },
   "outputs": [],
   "source": [
    "def scale_zillow(train,validate,test):\n",
    "    X_dfs = []\n",
    "    for df in [train,validate,test]:\n",
    "        X_dfs.append(df.drop(columns='property_value'))\n",
    "        # X_and_y_dfs.append(df.property_value)\n",
    "    \n",
    "    scaled_dfs = []\n",
    "    scaler = sklearn.preprocessing.MinMaxScaler()\n",
    "    scaler = scaler.fit(X_dfs[0])\n",
    "    for df in X_dfs:\n",
    "        df = scaler.transform(df)\n",
    "        scaled_dfs.append(df)\n",
    "    \n",
    "    for df in [train,validate,test]:\n",
    "        # scaled_dfs.append(df.drop(columns='property_value'))\n",
    "        scaled_dfs.append(df.property_value)\n",
    "    \n",
    "    dfs = []\n",
    "    for df in scaled_dfs:\n",
    "        dfs.append(pd.DataFrame(df))\n",
    "    \n",
    "    return dfs"
   ]
  },
  {
   "cell_type": "code",
   "execution_count": 80,
   "id": "70a05f42-5df1-4a7b-93d3-1c2d204c6858",
   "metadata": {
    "tags": []
   },
   "outputs": [],
   "source": [
    "X_train,X_validate,X_test,y_train,y_validate,y_test = scale_zillow(train,validate,test)"
   ]
  },
  {
   "cell_type": "code",
   "execution_count": 85,
   "id": "bf51b683-f9dc-43b9-9624-069f12082a87",
   "metadata": {
    "tags": []
   },
   "outputs": [
    {
     "data": {
      "text/html": [
       "<div>\n",
       "<style scoped>\n",
       "    .dataframe tbody tr th:only-of-type {\n",
       "        vertical-align: middle;\n",
       "    }\n",
       "\n",
       "    .dataframe tbody tr th {\n",
       "        vertical-align: top;\n",
       "    }\n",
       "\n",
       "    .dataframe thead th {\n",
       "        text-align: right;\n",
       "    }\n",
       "</style>\n",
       "<table border=\"1\" class=\"dataframe\">\n",
       "  <thead>\n",
       "    <tr style=\"text-align: right;\">\n",
       "      <th></th>\n",
       "      <th>property_value</th>\n",
       "    </tr>\n",
       "  </thead>\n",
       "  <tbody>\n",
       "    <tr>\n",
       "      <th>993671</th>\n",
       "      <td>293741</td>\n",
       "    </tr>\n",
       "    <tr>\n",
       "      <th>1191413</th>\n",
       "      <td>438685</td>\n",
       "    </tr>\n",
       "    <tr>\n",
       "      <th>1131915</th>\n",
       "      <td>61191</td>\n",
       "    </tr>\n",
       "    <tr>\n",
       "      <th>1998279</th>\n",
       "      <td>44967</td>\n",
       "    </tr>\n",
       "    <tr>\n",
       "      <th>1417050</th>\n",
       "      <td>423764</td>\n",
       "    </tr>\n",
       "    <tr>\n",
       "      <th>...</th>\n",
       "      <td>...</td>\n",
       "    </tr>\n",
       "    <tr>\n",
       "      <th>1928393</th>\n",
       "      <td>483594</td>\n",
       "    </tr>\n",
       "    <tr>\n",
       "      <th>516098</th>\n",
       "      <td>212339</td>\n",
       "    </tr>\n",
       "    <tr>\n",
       "      <th>413602</th>\n",
       "      <td>339172</td>\n",
       "    </tr>\n",
       "    <tr>\n",
       "      <th>1010217</th>\n",
       "      <td>443826</td>\n",
       "    </tr>\n",
       "    <tr>\n",
       "      <th>844868</th>\n",
       "      <td>398449</td>\n",
       "    </tr>\n",
       "  </tbody>\n",
       "</table>\n",
       "<p>1284141 rows × 1 columns</p>\n",
       "</div>"
      ],
      "text/plain": [
       "         property_value\n",
       "993671           293741\n",
       "1191413          438685\n",
       "1131915           61191\n",
       "1998279           44967\n",
       "1417050          423764\n",
       "...                 ...\n",
       "1928393          483594\n",
       "516098           212339\n",
       "413602           339172\n",
       "1010217          443826\n",
       "844868           398449\n",
       "\n",
       "[1284141 rows x 1 columns]"
      ]
     },
     "execution_count": 85,
     "metadata": {},
     "output_type": "execute_result"
    }
   ],
   "source": [
    "y_train"
   ]
  },
  {
   "cell_type": "code",
   "execution_count": 3,
   "id": "7fae2183-491a-4533-9ba1-06021a939ba9",
   "metadata": {
    "tags": []
   },
   "outputs": [
    {
     "name": "stdout",
     "output_type": "stream",
     "text": [
      "Train:\t\t(1284141, 7)\n",
      "Validate:\t(428047, 7)\n",
      "Test:\t\t(428047, 7)\n"
     ]
    }
   ],
   "source": [
    "train,validate,test = w.wrangle_zillow()"
   ]
  },
  {
   "cell_type": "code",
   "execution_count": 4,
   "id": "dff2d8e4-4436-4d1d-af4d-9e879ac63bfd",
   "metadata": {
    "tags": []
   },
   "outputs": [
    {
     "name": "stdout",
     "output_type": "stream",
     "text": [
      "X_train: \t(1284141, 8)\n",
      "y_train: \t(1284141, 1)\n",
      "\n",
      "X_validate: \t(428047, 8)\n",
      "y_validate: \t(428047, 1)\n",
      "\n",
      "X_test: \t(428047, 8)\n",
      "y_test: \t(428047, 1)\n"
     ]
    }
   ],
   "source": [
    "X_train,X_validate,X_test,y_train,y_validate,y_test = m.preprocess_and_scale_zillow(train,validate,test)"
   ]
  },
  {
   "cell_type": "code",
   "execution_count": null,
   "id": "a27348b5-0167-4431-b0b5-ad944340595b",
   "metadata": {},
   "outputs": [],
   "source": []
  },
  {
   "cell_type": "code",
   "execution_count": null,
   "id": "adf64a0a-11d0-4e65-ab1d-e5e77039756a",
   "metadata": {},
   "outputs": [],
   "source": []
  }
 ],
 "metadata": {
  "kernelspec": {
   "display_name": "Python 3 (ipykernel)",
   "language": "python",
   "name": "python3"
  },
  "language_info": {
   "codemirror_mode": {
    "name": "ipython",
    "version": 3
   },
   "file_extension": ".py",
   "mimetype": "text/x-python",
   "name": "python",
   "nbconvert_exporter": "python",
   "pygments_lexer": "ipython3",
   "version": "3.11.5"
  }
 },
 "nbformat": 4,
 "nbformat_minor": 5
}
